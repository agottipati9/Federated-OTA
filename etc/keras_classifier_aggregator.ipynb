{
 "cells": [
  {
   "cell_type": "markdown",
   "metadata": {},
   "source": [
    "# MNIST classifier in IBM FL"
   ]
  },
  {
   "cell_type": "markdown",
   "metadata": {},
   "source": [
    "## Outline:\n",
    "- [Add conda environment to Jupyter Notebook](#setup)\n",
    "- [Federated Learning(FL)](#intro)\n",
    "- [Digit Recognition](#mnist)\n",
    "- [Aggregator](#Aggregator)\n",
    "    - [Aggregator Configuration](#Aggregator-Configuration)\n",
    "    - [Running the Aggregator](#Running-the-Aggregator)\n",
    "- [Starting Parties](#Starting-Parties)\n",
    "- [Training and Evaluation](#Training-and-Evaluation)\n",
    "- [Visualize Results](#Visualize-Results)\n",
    "- [Shut Down](#Shut-Down)"
   ]
  },
  {
   "cell_type": "markdown",
   "metadata": {},
   "source": [
    "## Add conda environment to Jupyter Notebook <a name=\"setup\"></a>\n",
    "\n",
    "Please ensure that you have activated the `conda` environment following the instructions in the project README.\n",
    "\n",
    "Once done, run the following commands in your terminal to install your conda environment into the Jupyter Notebook:\n",
    "\n",
    "1. Once you have activated the conda environment, install the `ipykernel` package: `conda install -c anaconda ipykernel`\n",
    "\n",
    "2. Next, install the `ipykernel` module within Jupyter Notebook: `python -m ipykernel install --user --name=<conda_env>`\n",
    "\n",
    "3. Please install the `matplotlib` package for your conda environment.\n",
    "\n",
    "4. Finally, restart the jupyter notebook once done. Ensure that you are running this Notebook from `<project_path>/examples/keras_classifier`, where project_path is the directory where the IBMFL repository was cloned.\n",
    "\n",
    "When the Notebook is up and running it may prompt you to choose the kernel. Use the drop down to choose the kernel name same as that chosen when running `conda activate <conda_env>`. If no prompt shows up, you can change the kernel by clicking _Kernel_ > _Change kernel_ > _`<conda_env>`_."
   ]
  },
  {
   "cell_type": "markdown",
   "metadata": {},
   "source": [
    "## Federated Learning (FL) <a name=\"intro\"></a>\n",
    "\n",
    "**Federated Learning (FL)** is a distributed machine learning process in which each participant node (or party) retains their data locally and interacts with  other participants via a learning protocol. \n",
    "One main driver behind FL is the need to not share data with others  due to privacy and confidentially concerns.\n",
    "Another driver is to improve the speed of training a machine learning model by leveraging other participants' training processes.\n",
    "\n",
    "Setting up such a federated learning system requires setting up a communication infrastructure, converting machine learning algorithms to federated settings and in some cases knowing about the intricacies of security and privacy enabling techniques such as differential privacy and multi-party computation. \n",
    "\n",
    "In this Notebook we use [IBM FL](https://github.com/IBM/federated-learning-lib) to have multiple parties train a classifier to recognise handwritten digits in the [MNIST dataset](http://yann.lecun.com/exdb/mnist/). \n",
    "\n",
    "For a more technical dive into IBM FL, refer the whitepaper [here](https://arxiv.org/pdf/2007.10987.pdf)."
   ]
  },
  {
   "cell_type": "markdown",
   "metadata": {},
   "source": [
    "In the following cells, we set up each of the components of a Federated Learning network (See Figure below) wherein all involved parties aid in training their respective local cartpoles to arrive at the upright pendulum state. In this notebook we default to 2 parties, but depending on your resources you may use more parties.\n",
    "\n",
    "<img src=\"../images/FL_Network.png\" width=\"720\"/>\n",
    "<figcaption><center>Modified from Image Source: <a href=\"https://arxiv.org/pdf/2007.10987.pdf\">IBM Federated Learning: An Enterprise FrameworkWhite Paper V0.1</a></center></figcaption>"
   ]
  },
  {
   "cell_type": "markdown",
   "metadata": {},
   "source": [
    "## Digit Recognition <a name=\"mnist\"></a>\n",
    "\n"
   ]
  },
  {
   "cell_type": "markdown",
   "metadata": {},
   "source": [
    "<img src=\"../images/MnistExamples.png\" width=\"512\"/>\n",
    "<figcaption><center>Image Source: Josef Steppan / CC BY-SA <a href=\"https://creativecommons.org/licenses/by-sa/4.0\">Wikimedia Commons</a></center></figcaption>"
   ]
  },
  {
   "cell_type": "markdown",
   "metadata": {},
   "source": [
    "The problem at hand is to recognize digits from these tens of thousands of handwritten images. In this notebook, we are going to assume that the parties and the aggregator are run in the same machine. For that purpose, we first randomly split the training data to each party. Then, we define the neural network definition. After that we start the aggregator and we need to register and run all parties by running two other notebooks."
   ]
  },
  {
   "cell_type": "markdown",
   "metadata": {},
   "source": [
    "### Getting things ready\n",
    "We begin by setting the number of parties that will participate in the federated learning run and splitting up the data among them."
   ]
  },
  {
   "cell_type": "code",
   "execution_count": 1,
   "metadata": {},
   "outputs": [],
   "source": [
    "use_dp = False\n",
    "budget = 1.0\n",
    "delta = 0.005\n",
    "fig_name = 'no_dp.PDF'"
   ]
  },
  {
   "cell_type": "code",
   "execution_count": 2,
   "metadata": {},
   "outputs": [],
   "source": [
    "import sys\n",
    "sys.path.append('../..')\n",
    "import os\n",
    "os.chdir(\"../..\")\n",
    "\n",
    "num_parties = 2  ## number of participating parties\n",
    "dataset = 'mnist'"
   ]
  },
  {
   "cell_type": "code",
   "execution_count": 2,
   "metadata": {},
   "outputs": [
    {
     "name": "stdout",
     "output_type": "stream",
     "text": [
      "enp10s3f0: flags=4163<UP,BROADCAST,RUNNING,MULTICAST>  mtu 1500\r\n",
      "        inet6 fe80::204:23ff:feb7:18f4  prefixlen 64  scopeid 0x20<link>\r\n",
      "        ether 00:04:23:b7:18:f4  txqueuelen 1000  (Ethernet)\r\n",
      "        RX packets 294  bytes 36662 (36.6 KB)\r\n",
      "        RX errors 0  dropped 0  overruns 0  frame 0\r\n",
      "        TX packets 313  bytes 38578 (38.5 KB)\r\n",
      "        TX errors 0  dropped 0 overruns 0  carrier 0  collisions 0\r\n",
      "\r\n",
      "enp6s7: flags=4163<UP,BROADCAST,RUNNING,MULTICAST>  mtu 1500\r\n",
      "        inet 155.98.39.117  netmask 255.255.252.0  broadcast 155.98.39.255\r\n",
      "        inet6 fe80::211:43ff:fee4:5c03  prefixlen 64  scopeid 0x20<link>\r\n",
      "        ether 00:11:43:e4:5c:03  txqueuelen 1000  (Ethernet)\r\n",
      "        RX packets 1985866  bytes 2836261722 (2.8 GB)\r\n",
      "        RX errors 0  dropped 14  overruns 0  frame 0\r\n",
      "        TX packets 677297  bytes 89822441 (89.8 MB)\r\n",
      "        TX errors 0  dropped 0 overruns 0  carrier 0  collisions 0\r\n",
      "\r\n",
      "lo: flags=73<UP,LOOPBACK,RUNNING>  mtu 65536\r\n",
      "        inet 127.0.0.1  netmask 255.0.0.0\r\n",
      "        inet6 ::1  prefixlen 128  scopeid 0x10<host>\r\n",
      "        loop  txqueuelen 1000  (Local Loopback)\r\n",
      "        RX packets 2331  bytes 327149 (327.1 KB)\r\n",
      "        RX errors 0  dropped 0  overruns 0  frame 0\r\n",
      "        TX packets 2331  bytes 327149 (327.1 KB)\r\n",
      "        TX errors 0  dropped 0 overruns 0  carrier 0  collisions 0\r\n",
      "\r\n",
      "pgwtun: flags=4305<UP,POINTOPOINT,RUNNING,NOARP,MULTICAST>  mtu 1500\r\n",
      "        inet 192.168.0.1  netmask 255.255.255.0  destination 192.168.0.1\r\n",
      "        inet6 fe80::e2e5:114d:5378:4566  prefixlen 64  scopeid 0x20<link>\r\n",
      "        unspec 00-00-00-00-00-00-00-00-00-00-00-00-00-00-00-00  txqueuelen 500  (UNSPEC)\r\n",
      "        RX packets 218  bytes 18312 (18.3 KB)\r\n",
      "        RX errors 0  dropped 0  overruns 0  frame 0\r\n",
      "        TX packets 222  bytes 18396 (18.3 KB)\r\n",
      "        TX errors 0  dropped 0 overruns 0  carrier 0  collisions 0\r\n",
      "\r\n",
      "vlan128: flags=4163<UP,BROADCAST,RUNNING,MULTICAST>  mtu 1500\r\n",
      "        inet 10.10.1.1  netmask 255.255.255.0  broadcast 10.10.1.255\r\n",
      "        inet6 fe80::6:98ff:fef7:4fa5  prefixlen 64  scopeid 0x20<link>\r\n",
      "        ether 02:06:98:f7:4f:a5  txqueuelen 1000  (Ethernet)\r\n",
      "        RX packets 294  bytes 32546 (32.5 KB)\r\n",
      "        RX errors 0  dropped 0  overruns 0  frame 0\r\n",
      "        TX packets 300  bytes 36860 (36.8 KB)\r\n",
      "        TX errors 0  dropped 0 overruns 0  carrier 0  collisions 0\r\n",
      "\r\n"
     ]
    }
   ],
   "source": [
    "!ifconfig # NOTE: Edge_addr should be the host, 155 addr, or end of ip tunnel 192"
   ]
  },
  {
   "cell_type": "code",
   "execution_count": 3,
   "metadata": {},
   "outputs": [],
   "source": [
    "edge_addr = '172.16.0.1'"
   ]
  },
  {
   "cell_type": "markdown",
   "metadata": {},
   "source": [
    "We use `examples/generate_data.py` to split the dataset into files for each party. \n",
    "\n",
    "The script allows specifying the number of parties as well as the dataset to use (from several supported datasets: _mnist_, _femnist_, _cifar10_ and many others). \n",
    "\n",
    "The `-pp` argument states how many data points to choose per party. If the option `--stratify` is given, the library stratifies the data proportionally according to the source distribution. If you want to run this notebook in different machines, you can assign samples for each party locally. Then, we define the neural network definition."
   ]
  },
  {
   "cell_type": "code",
   "execution_count": 4,
   "metadata": {},
   "outputs": [
    {
     "name": "stderr",
     "output_type": "stream",
     "text": [
      "Using TensorFlow backend.\n",
      "/mydata/conda/envs/tf2/lib/python3.6/site-packages/urllib3/connectionpool.py:1020: InsecureRequestWarning: Unverified HTTPS request is being made to host 's3.amazonaws.com'. Adding certificate verification is strongly advised. See: https://urllib3.readthedocs.io/en/latest/advanced-usage.html#ssl-warnings\n",
      "  InsecureRequestWarning,\n"
     ]
    },
    {
     "name": "stdout",
     "output_type": "stream",
     "text": [
      "Warning: test set and train set contain different labels\n",
      "Party_ 0\n",
      "nb_x_train:  (200, 28, 28) nb_x_test:  (10000, 28, 28)\n",
      "* Label  0  samples:  13\n",
      "* Label  1  samples:  22\n",
      "* Label  2  samples:  18\n",
      "* Label  3  samples:  27\n",
      "* Label  4  samples:  19\n",
      "* Label  5  samples:  13\n",
      "* Label  6  samples:  25\n",
      "* Label  7  samples:  29\n",
      "* Label  8  samples:  16\n",
      "* Label  9  samples:  18\n",
      "Finished! :) Data saved in  examples/data/mnist/random\n"
     ]
    }
   ],
   "source": [
    "%run examples/generate_data.py -n $num_parties -d $dataset -pp 200 "
   ]
  },
  {
   "cell_type": "markdown",
   "metadata": {},
   "source": [
    "Generate the keras model definition file using the below function save_model_config. Please note that parties data and the model file needs to be copied to the parties if you launch parties on different nodes."
   ]
  },
  {
   "cell_type": "code",
   "execution_count": 5,
   "metadata": {},
   "outputs": [
    {
     "name": "stdout",
     "output_type": "stream",
     "text": [
      "examples/configs/keras_classifier/compiled_keras.h5\n"
     ]
    },
    {
     "data": {
      "text/plain": [
       "{'name': 'KerasFLModel',\n",
       " 'path': 'ibmfl.model.keras_fl_model',\n",
       " 'spec': {'model_name': 'keras-cnn',\n",
       "  'model_definition': 'examples/configs/keras_classifier/compiled_keras.h5'}}"
      ]
     },
     "execution_count": 5,
     "metadata": {},
     "output_type": "execute_result"
    }
   ],
   "source": [
    "import os\n",
    "\n",
    "import tensorflow as tf\n",
    "from tensorflow import keras\n",
    "from tensorflow.keras import Sequential\n",
    "from tensorflow.keras import layers\n",
    "from tensorflow.keras import backend as K\n",
    "\n",
    "def save_model_config(folder_configs):\n",
    "    num_classes = 10\n",
    "    img_rows, img_cols = 28, 28\n",
    "    if K.image_data_format() == 'channels_first':\n",
    "        input_shape = (1, img_rows, img_cols)\n",
    "    else:\n",
    "        input_shape = (img_rows, img_cols, 1)\n",
    "\n",
    "    model = keras.Sequential(\n",
    "        [\n",
    "            keras.Input(shape=input_shape),\n",
    "            layers.Conv2D(32, kernel_size=(3, 3), activation=\"relu\"),\n",
    "            layers.MaxPooling2D(pool_size=(2, 2)),\n",
    "            layers.Conv2D(64, kernel_size=(3, 3), activation=\"relu\"),\n",
    "            layers.MaxPooling2D(pool_size=(2, 2)),\n",
    "            layers.Flatten(),\n",
    "            layers.Dropout(0.5),\n",
    "            layers.Dense(num_classes, activation=\"softmax\"),\n",
    "        ]\n",
    "    )\n",
    "    model.compile(loss=tf.keras.losses.CategoricalCrossentropy(), optimizer=\"adam\", metrics=[\"accuracy\"])\n",
    "\n",
    "    if not os.path.exists(folder_configs):\n",
    "        os.makedirs(folder_configs)\n",
    "\n",
    "    # Save model\n",
    "    fname = os.path.join(folder_configs, 'compiled_keras.h5')\n",
    "    model.save(fname)\n",
    "    print(fname)\n",
    "\n",
    "    K.clear_session()\n",
    "    # Generate model spec:\n",
    "    spec = {\n",
    "        'model_name': 'keras-cnn',\n",
    "        'model_definition': fname\n",
    "    }\n",
    "\n",
    "    model = {\n",
    "        'name': 'KerasFLModel',\n",
    "        'path': 'ibmfl.model.keras_fl_model',\n",
    "        'spec': spec\n",
    "    }\n",
    "\n",
    "    return model\n",
    "save_model_config('examples/configs/keras_classifier')"
   ]
  },
  {
   "cell_type": "markdown",
   "metadata": {},
   "source": [
    "## Aggregator"
   ]
  },
  {
   "cell_type": "markdown",
   "metadata": {},
   "source": [
    "coordinates the overall process, communicates with the parties and integrates the results of the training process. This integration of results is done using the _Fusion Algorithm_.\n",
    "\n",
    "A fusion algorithm queries the registered parties to carry out the federated learning process. The queries sent vary according to the model/algorithm type.  In return, parties send their reply as a model update object, and these model updates are then aggregated according to the specified Fusion Algorithm, specified via a `Fusion Handler` class. \n",
    "\n",
    "To take a look at the supported fusion algorithms, refer the IBM FL tutorial page [here](https://github.com/IBM/federated-learning-lib/blob/main/README.md#supported-functionality)."
   ]
  },
  {
   "cell_type": "markdown",
   "metadata": {},
   "source": [
    "### Aggregator Configuration\n",
    "\n",
    "We discuss the various configuration parameters for the Aggregator [here.](https://github.com/IBM/federated-learning-lib/blob/main/docs/tutorials/configure_fl.md#the-aggregators-configuration-file)\n",
    "\n",
    "Given below is an example of the aggregator's configuration file. In this example, the aggregator does not specify a data file or maintain a global model. Hence, during the federated learning process, it only keeps track of the current model parameters. \n",
    "\n",
    "However, it is possible that the aggregator also has data for testing purposes and maintains a global model. When this is the case, one needs to add `data` and `model` sections in the configuration file."
   ]
  },
  {
   "cell_type": "markdown",
   "metadata": {},
   "source": [
    "<img src=\"../images/arch_aggregator.png\" width=\"680\"/>\n",
    "<figcaption><center>Image Source: <a href=\"https://arxiv.org/pdf/2007.10987.pdf\">IBM Federated Learning: An Enterprise FrameworkWhite Paper V0.1</a></center></figcaption>"
   ]
  },
  {
   "cell_type": "markdown",
   "metadata": {},
   "source": [
    "#### Building blocks in the configuration file:\n",
    "\n",
    "- `connection` (also used in Party config): needed to initiate the connection; includes server information (`info`, optional, depends on the connection type), a connection class name, a connection file location, and a synchronization mode flag (`sync`) for training phase\n",
    "\n",
    "- `fusion`: needed to initiate a fusion algorithm at the aggregator side; includes a fusion handler class name and a fusion handler file location\n",
    "\n",
    "- `protocol_handler`: needed to initiate a protocol; includes a protocol handler class name and a protocol handler file location\n",
    "\n",
    "- `hyperparams`: includes global training and local training hyperparameters, including `termination_accuracy`, learning rate (`lr`), `optimizer`, etc., depending on the model being used.\n",
    "\n",
    "For detailed documentation of the objects described below, refer the API docs [here](https://ibmfl.mybluemix.net/api-documentation)."
   ]
  },
  {
   "cell_type": "code",
   "execution_count": 6,
   "metadata": {
    "scrolled": true
   },
   "outputs": [],
   "source": [
    "agg_config = {\n",
    "    'connection': {\n",
    "        'info': {\n",
    "            'ip': edge_addr,\n",
    "            'port': 5000,\n",
    "            'tls_config': {\n",
    "                'enable': 'false'\n",
    "            }\n",
    "        },\n",
    "        'name': 'FlaskConnection',\n",
    "        'path': 'ibmfl.connection.flask_connection',\n",
    "        'sync': 'False'\n",
    "    },\n",
    "    'data': {\n",
    "        'info': {\n",
    "            'npz_file': 'examples/datasets/mnist.npz'\n",
    "        },\n",
    "        'name': 'MnistKerasDataHandler',\n",
    "        'path': 'ibmfl.util.data_handlers.mnist_keras_data_handler'\n",
    "    },\n",
    "    'fusion': {\n",
    "        'name': 'IterAvgFusionHandler',\n",
    "        'path': 'ibmfl.aggregator.fusion.iter_avg_fusion_handler'\n",
    "    },\n",
    "    'hyperparams': {\n",
    "        'global': {\n",
    "            'max_timeout': 60,\n",
    "            'num_parties': num_parties,\n",
    "            'perc_quorum': 1,\n",
    "            'rounds': 30,\n",
    "            'termination_accuracy': 0.9\n",
    "        },\n",
    "        'local': {\n",
    "            'optimizer': {\n",
    "                'lr': 0.01\n",
    "            },\n",
    "            'training': {\n",
    "                'epochs': 3\n",
    "            }\n",
    "        }\n",
    "    },\n",
    "    'protocol_handler': {\n",
    "        'name': 'ProtoHandler',\n",
    "        'path': 'ibmfl.aggregator.protohandler.proto_handler'\n",
    "    }\n",
    "}"
   ]
  },
  {
   "cell_type": "code",
   "execution_count": 7,
   "metadata": {},
   "outputs": [],
   "source": [
    "if use_dp:\n",
    "    agg_config = {\n",
    "        'connection': {\n",
    "            'info': {\n",
    "                'ip': edge_addr,\n",
    "                'port': 5000,\n",
    "                'tls_config': {\n",
    "                    'enable': 'false'\n",
    "                }\n",
    "            },\n",
    "            'name': 'FlaskConnection',\n",
    "            'path': 'ibmfl.connection.flask_connection',\n",
    "            'sync': 'False'\n",
    "        },\n",
    "        'data': {\n",
    "            'info': {\n",
    "                'npz_file': 'examples/datasets/mnist.npz'\n",
    "            },\n",
    "            'name': 'MnistKerasDataHandler',\n",
    "            'path': 'ibmfl.util.data_handlers.mnist_keras_data_handler'\n",
    "        },\n",
    "        'fusion': {\n",
    "            'name': 'IterAvgFusionHandler',\n",
    "            'path': 'ibmfl.aggregator.fusion.iter_avg_fusion_handler'\n",
    "        },\n",
    "        'hyperparams': {\n",
    "            'global': {\n",
    "                'max_timeout': 600,\n",
    "                'num_parties': num_parties,\n",
    "                'perc_quorum': 1,\n",
    "                'rounds': 30,\n",
    "                'termination_accuracy': 0.9\n",
    "            },\n",
    "            'local': {\n",
    "                'optimizer': {\n",
    "                    'lr': 0.01\n",
    "                },\n",
    "                'training': {\n",
    "                    'epochs': 3\n",
    "                },\n",
    "                'privacy': {\n",
    "                    'budget': budget,\n",
    "                    'delta': delta\n",
    "                }\n",
    "            }\n",
    "        },\n",
    "        'protocol_handler': {\n",
    "            'name': 'ProtoHandler',\n",
    "            'path': 'ibmfl.aggregator.protohandler.proto_handler'\n",
    "        }\n",
    "    }"
   ]
  },
  {
   "cell_type": "markdown",
   "metadata": {},
   "source": [
    "### Running the Aggregator\n",
    "Next we pass the configuration parameters set in the previous cell to instantiate the `Aggregator` object. Finally, we `start()` the Aggregator process."
   ]
  },
  {
   "cell_type": "code",
   "execution_count": 8,
   "metadata": {
    "scrolled": true
   },
   "outputs": [
    {
     "name": "stdout",
     "output_type": "stream",
     "text": [
      "2021-04-16 08:56:11,508 | 1.0.4 | INFO | ibmfl.util.config                             | Getting Aggregator details from arguments.\n",
      "2021-04-16 08:56:12,151 | 1.0.4 | INFO | ibmfl.util.config                             | No model config provided for this setup.\n",
      "2021-04-16 08:56:12,318 | 1.0.4 | INFO | ibmfl.util.config                             | No data config provided for this setup.\n",
      "2021-04-16 08:56:12,319 | 1.0.4 | INFO | ibmfl.util.data_handlers.mnist_keras_data_handler | Loaded training data from examples/datasets/mnist.npz\n",
      "2021-04-16 08:56:12,732 | 1.0.4 | INFO | ibmfl.connection.flask_connection             | RestSender initialized\n",
      "2021-04-16 08:56:12,733 | 1.0.4 | INFO | ibmfl.aggregator.protohandler.proto_handler   | State: States.START\n",
      "2021-04-16 08:56:12,734 | 1.0.4 | INFO | ibmfl.connection.flask_connection             | Receiver Initialized\n",
      "2021-04-16 08:56:12,735 | 1.0.4 | INFO | ibmfl.connection.flask_connection             | Initializing Flask application\n",
      "2021-04-16 08:56:12,742 | 1.0.4 | INFO | ibmfl.aggregator.aggregator                   | Aggregator initialization successful\n",
      "2021-04-16 08:56:12,745 | 1.0.4 | INFO | ibmfl.aggregator.aggregator                   | Aggregator start successful\n",
      " * Serving Flask app \"ibmfl.connection.flask_connection\" (lazy loading)\n",
      " * Environment: production\n",
      "\u001b[31m   WARNING: This is a development server. Do not use it in a production deployment.\u001b[0m\n",
      "\u001b[2m   Use a production WSGI server instead.\u001b[0m\n",
      " * Debug mode: off\n",
      "2021-04-16 08:56:12,759 | 1.0.4 | INFO | werkzeug                                      |  * Running on http://155.98.36.164:5000/ (Press CTRL+C to quit)\n",
      "2021-04-16 08:57:56,336 | 1.0.4 | INFO | ibmfl.connection.flask_connection             | Request received for path :6\n",
      "2021-04-16 08:57:56,339 | 1.0.4 | INFO | ibmfl.aggregator.protohandler.proto_handler   | Adding party with id party0\n",
      "2021-04-16 08:57:56,341 | 1.0.4 | INFO | ibmfl.aggregator.protohandler.proto_handler   | Total number of registered parties:1\n",
      "2021-04-16 08:57:56,343 | 1.0.4 | INFO | werkzeug                                      | 155.98.36.163 - - [16/Apr/2021 08:57:56] \"\u001b[37mPOST /6 HTTP/1.1\u001b[0m\" 200 -\n"
     ]
    }
   ],
   "source": [
    "\n",
    "from ibmfl.aggregator.aggregator import Aggregator\n",
    "aggregator = Aggregator(config_dict=agg_config)\n",
    "\n",
    "aggregator.start()"
   ]
  },
  {
   "cell_type": "markdown",
   "metadata": {},
   "source": [
    "<img src=\"../images/arch_party.png\" width=\"680\"/>\n",
    "<figcaption><center>Image Source: <a href=\"https://arxiv.org/pdf/2007.10987.pdf\">IBM Federated Learning: An Enterprise FrameworkWhite Paper V0.1</a></center></figcaption>"
   ]
  },
  {
   "cell_type": "markdown",
   "metadata": {},
   "source": [
    "## Starting Parties\n",
    "\n",
    "Now that we have Aggregator running, next we go to Parties' notebooks (`keras_classifier_p0.ipynb` and `keras_classifier_p1.ipynb`) to start and register them with the Aggregator. Once all the parties are done with registration, we will move to next step to start training."
   ]
  },
  {
   "cell_type": "markdown",
   "metadata": {},
   "source": [
    "## Training and Evaluation\n",
    "\n",
    "Now that our network has been set up, we begin training the model by invoking the Aggregator's `start_training()` method. \n",
    "\n",
    "This could take some time, depending on your system specifications. Feel free to get your doze of coffee meanwhile ☕"
   ]
  },
  {
   "cell_type": "code",
   "execution_count": 9,
   "metadata": {
    "scrolled": true
   },
   "outputs": [
    {
     "name": "stdout",
     "output_type": "stream",
     "text": [
      "2021-04-16 08:58:10,928 | 1.0.4 | INFO | ibmfl.aggregator.aggregator                   | Initiating Global Training.\n",
      "2021-04-16 08:58:10,930 | 1.0.4 | INFO | ibmfl.aggregator.fusion.fusion_handler        | Warm start disabled.\n",
      "2021-04-16 08:58:10,931 | 1.0.4 | INFO | ibmfl.aggregator.fusion.iter_avg_fusion_handler | Model updateNone\n",
      "2021-04-16 08:58:10,932 | 1.0.4 | INFO | ibmfl.aggregator.fusion.fusion_state_service  | Fusion state States.SND_MODEL\n",
      "2021-04-16 08:58:10,935 | 1.0.4 | INFO | ibmfl.aggregator.protohandler.proto_handler   | State: States.SND_REQ\n",
      "2021-04-16 08:59:12,995 | 1.0.4 | ERROR | ibmfl.aggregator.protohandler.proto_handler   | Error occurred while sending request to party: <ibmfl.aggregator.party_connection.PartyConnection object at 0x7f72c03a7a58> - HTTPConnectionPool(host='192.168.0.2', port=8085): Max retries exceeded with url: /7 (Caused by NewConnectionError('<urllib3.connection.HTTPConnection object at 0x7f72c0301710>: Failed to establish a new connection: [Errno 111] Connection refused',))\n",
      "Traceback (most recent call last):\n",
      "  File \"/mydata/conda/envs/tf2/lib/python3.6/site-packages/urllib3/connection.py\", line 170, in _new_conn\n",
      "    (self._dns_host, self.port), self.timeout, **extra_kw\n",
      "  File \"/mydata/conda/envs/tf2/lib/python3.6/site-packages/urllib3/util/connection.py\", line 96, in create_connection\n",
      "    raise err\n",
      "  File \"/mydata/conda/envs/tf2/lib/python3.6/site-packages/urllib3/util/connection.py\", line 86, in create_connection\n",
      "    sock.connect(sa)\n",
      "ConnectionRefusedError: [Errno 111] Connection refused\n",
      "\n",
      "During handling of the above exception, another exception occurred:\n",
      "\n",
      "Traceback (most recent call last):\n",
      "  File \"/mydata/conda/envs/tf2/lib/python3.6/site-packages/urllib3/connectionpool.py\", line 706, in urlopen\n",
      "    chunked=chunked,\n",
      "  File \"/mydata/conda/envs/tf2/lib/python3.6/site-packages/urllib3/connectionpool.py\", line 394, in _make_request\n",
      "    conn.request(method, url, **httplib_request_kw)\n",
      "  File \"/mydata/conda/envs/tf2/lib/python3.6/site-packages/urllib3/connection.py\", line 234, in request\n",
      "    super(HTTPConnection, self).request(method, url, body=body, headers=headers)\n",
      "  File \"/mydata/conda/envs/tf2/lib/python3.6/http/client.py\", line 1287, in request\n",
      "    self._send_request(method, url, body, headers, encode_chunked)\n",
      "  File \"/mydata/conda/envs/tf2/lib/python3.6/http/client.py\", line 1333, in _send_request\n",
      "    self.endheaders(body, encode_chunked=encode_chunked)\n",
      "  File \"/mydata/conda/envs/tf2/lib/python3.6/http/client.py\", line 1282, in endheaders\n",
      "    self._send_output(message_body, encode_chunked=encode_chunked)\n",
      "  File \"/mydata/conda/envs/tf2/lib/python3.6/http/client.py\", line 1042, in _send_output\n",
      "    self.send(msg)\n",
      "  File \"/mydata/conda/envs/tf2/lib/python3.6/http/client.py\", line 980, in send\n",
      "    self.connect()\n",
      "  File \"/mydata/conda/envs/tf2/lib/python3.6/site-packages/urllib3/connection.py\", line 200, in connect\n",
      "    conn = self._new_conn()\n",
      "  File \"/mydata/conda/envs/tf2/lib/python3.6/site-packages/urllib3/connection.py\", line 182, in _new_conn\n",
      "    self, \"Failed to establish a new connection: %s\" % e\n",
      "urllib3.exceptions.NewConnectionError: <urllib3.connection.HTTPConnection object at 0x7f72c0301710>: Failed to establish a new connection: [Errno 111] Connection refused\n",
      "\n",
      "During handling of the above exception, another exception occurred:\n",
      "\n",
      "Traceback (most recent call last):\n",
      "  File \"/mydata/conda/envs/tf2/lib/python3.6/site-packages/requests/adapters.py\", line 449, in send\n",
      "    timeout=timeout\n",
      "  File \"/mydata/conda/envs/tf2/lib/python3.6/site-packages/urllib3/connectionpool.py\", line 756, in urlopen\n",
      "    method, url, error=e, _pool=self, _stacktrace=sys.exc_info()[2]\n",
      "  File \"/mydata/conda/envs/tf2/lib/python3.6/site-packages/urllib3/util/retry.py\", line 574, in increment\n",
      "    raise MaxRetryError(_pool, url, error or ResponseError(cause))\n",
      "urllib3.exceptions.MaxRetryError: HTTPConnectionPool(host='192.168.0.2', port=8085): Max retries exceeded with url: /7 (Caused by NewConnectionError('<urllib3.connection.HTTPConnection object at 0x7f72c0301710>: Failed to establish a new connection: [Errno 111] Connection refused',))\n",
      "\n",
      "During handling of the above exception, another exception occurred:\n",
      "\n",
      "Traceback (most recent call last):\n",
      "  File \"/mydata/conda/envs/tf2/lib/python3.6/site-packages/ibmfl/aggregator/protohandler/proto_handler.py\", line 208, in send_message\n",
      "    res_msg = self.connection.send_message(party.info, message)\n",
      "  File \"/mydata/conda/envs/tf2/lib/python3.6/site-packages/ibmfl/connection/flask_connection.py\", line 485, in send_message\n",
      "    response = self.post(endpoint, path, message, headers, certs)\n",
      "  File \"/mydata/conda/envs/tf2/lib/python3.6/site-packages/ibmfl/connection/flask_connection.py\", line 400, in post\n",
      "    return requests.post(url, data=data, headers=headers, verify=False, cert=certs)\n",
      "  File \"/mydata/conda/envs/tf2/lib/python3.6/site-packages/requests/api.py\", line 119, in post\n",
      "    return request('post', url, data=data, json=json, **kwargs)\n",
      "  File \"/mydata/conda/envs/tf2/lib/python3.6/site-packages/requests/api.py\", line 61, in request\n",
      "    return session.request(method=method, url=url, **kwargs)\n",
      "  File \"/mydata/conda/envs/tf2/lib/python3.6/site-packages/requests/sessions.py\", line 542, in request\n",
      "    resp = self.send(prep, **send_kwargs)\n",
      "  File \"/mydata/conda/envs/tf2/lib/python3.6/site-packages/requests/sessions.py\", line 655, in send\n",
      "    r = adapter.send(request, **kwargs)\n",
      "  File \"/mydata/conda/envs/tf2/lib/python3.6/site-packages/requests/adapters.py\", line 516, in send\n",
      "    raise ConnectionError(e, request=request)\n",
      "requests.exceptions.ConnectionError: HTTPConnectionPool(host='192.168.0.2', port=8085): Max retries exceeded with url: /7 (Caused by NewConnectionError('<urllib3.connection.HTTPConnection object at 0x7f72c0301710>: Failed to establish a new connection: [Errno 111] Connection refused',))\n",
      "2021-04-16 08:59:13,031 | 1.0.4 | INFO | ibmfl.aggregator.protohandler.proto_handler   | Total number of success responses :0\n",
      "2021-04-16 08:59:13,033 | 1.0.4 | INFO | ibmfl.aggregator.protohandler.proto_handler   | Number of parties queried:1\n",
      "2021-04-16 08:59:13,034 | 1.0.4 | INFO | ibmfl.aggregator.protohandler.proto_handler   | Number of registered parties:1\n",
      "2021-04-16 08:59:13,035 | 1.0.4 | INFO | ibmfl.aggregator.protohandler.proto_handler   | State: States.QUORUM_WAIT\n",
      "2021-04-16 08:59:18,042 | 1.0.4 | INFO | ibmfl.aggregator.protohandler.proto_handler   | Timeout:60 Time spent:5\n",
      "2021-04-16 08:59:23,049 | 1.0.4 | INFO | ibmfl.aggregator.protohandler.proto_handler   | Timeout:60 Time spent:10\n",
      "2021-04-16 08:59:28,055 | 1.0.4 | INFO | ibmfl.aggregator.protohandler.proto_handler   | Timeout:60 Time spent:15\n",
      "2021-04-16 08:59:33,062 | 1.0.4 | INFO | ibmfl.aggregator.protohandler.proto_handler   | Timeout:60 Time spent:20\n",
      "2021-04-16 08:59:38,068 | 1.0.4 | INFO | ibmfl.aggregator.protohandler.proto_handler   | Timeout:60 Time spent:25\n",
      "2021-04-16 08:59:43,074 | 1.0.4 | INFO | ibmfl.aggregator.protohandler.proto_handler   | Timeout:60 Time spent:30\n",
      "2021-04-16 08:59:48,081 | 1.0.4 | INFO | ibmfl.aggregator.protohandler.proto_handler   | Timeout:60 Time spent:35\n",
      "2021-04-16 08:59:53,087 | 1.0.4 | INFO | ibmfl.aggregator.protohandler.proto_handler   | Timeout:60 Time spent:40\n",
      "2021-04-16 08:59:58,093 | 1.0.4 | INFO | ibmfl.aggregator.protohandler.proto_handler   | Timeout:60 Time spent:45\n",
      "2021-04-16 09:00:03,100 | 1.0.4 | INFO | ibmfl.aggregator.protohandler.proto_handler   | Timeout:60 Time spent:50\n",
      "2021-04-16 09:00:08,106 | 1.0.4 | INFO | ibmfl.aggregator.protohandler.proto_handler   | Timeout:60 Time spent:55\n",
      "2021-04-16 09:00:13,112 | 1.0.4 | INFO | ibmfl.aggregator.protohandler.proto_handler   | Timeout:60 Time spent:60\n",
      "2021-04-16 09:00:13,114 | 1.0.4 | ERROR | ibmfl.aggregator.protohandler.proto_handler   | One or more party did not reply in time.\n",
      "2021-04-16 09:00:13,115 | 1.0.4 | INFO | ibmfl.aggregator.protohandler.proto_handler   | Target Quorum was: 1\n",
      "2021-04-16 09:00:13,116 | 1.0.4 | ERROR | ibmfl.aggregator.aggregator                   | Exception occurred while training.\n",
      "Traceback (most recent call last):\n",
      "  File \"/mydata/conda/envs/tf2/lib/python3.6/site-packages/ibmfl/aggregator/aggregator.py\", line 168, in start_training\n",
      "    self.fusion.start_global_training()\n",
      "  File \"/mydata/conda/envs/tf2/lib/python3.6/site-packages/ibmfl/aggregator/fusion/iter_avg_fusion_handler.py\", line 100, in start_global_training\n",
      "    lst_replies = self.query_all_parties(payload)\n",
      "  File \"/mydata/conda/envs/tf2/lib/python3.6/site-packages/ibmfl/aggregator/fusion/fusion_handler.py\", line 212, in query_all_parties\n",
      "    lst_model_updates = self.query_parties(payload, lst_parties)\n",
      "  File \"/mydata/conda/envs/tf2/lib/python3.6/site-packages/ibmfl/aggregator/fusion/fusion_handler.py\", line 241, in query_parties\n",
      "    fusion_state=self.fusion_state_manager\n",
      "  File \"/mydata/conda/envs/tf2/lib/python3.6/site-packages/ibmfl/aggregator/protohandler/proto_handler.py\", line 389, in query_parties\n",
      "    quorum_offset=quorum_offset)\n",
      "  File \"/mydata/conda/envs/tf2/lib/python3.6/site-packages/ibmfl/aggregator/protohandler/proto_handler.py\", line 784, in periodically_verify_quorum\n",
      "    'Max-timeout: quorum not reached. Party did not reply in time.')\n",
      "ibmfl.exceptions.QuorumException: Max-timeout: quorum not reached. Party did not reply in time.\n",
      "2021-04-16 09:00:13,119 | 1.0.4 | ERROR | ibmfl.aggregator.aggregator                   | Max-timeout: quorum not reached. Party did not reply in time.\n",
      "Traceback (most recent call last):\n",
      "  File \"/mydata/conda/envs/tf2/lib/python3.6/site-packages/ibmfl/aggregator/aggregator.py\", line 168, in start_training\n",
      "    self.fusion.start_global_training()\n",
      "  File \"/mydata/conda/envs/tf2/lib/python3.6/site-packages/ibmfl/aggregator/fusion/iter_avg_fusion_handler.py\", line 100, in start_global_training\n",
      "    lst_replies = self.query_all_parties(payload)\n",
      "  File \"/mydata/conda/envs/tf2/lib/python3.6/site-packages/ibmfl/aggregator/fusion/fusion_handler.py\", line 212, in query_all_parties\n",
      "    lst_model_updates = self.query_parties(payload, lst_parties)\n",
      "  File \"/mydata/conda/envs/tf2/lib/python3.6/site-packages/ibmfl/aggregator/fusion/fusion_handler.py\", line 241, in query_parties\n",
      "    fusion_state=self.fusion_state_manager\n",
      "  File \"/mydata/conda/envs/tf2/lib/python3.6/site-packages/ibmfl/aggregator/protohandler/proto_handler.py\", line 389, in query_parties\n",
      "    quorum_offset=quorum_offset)\n",
      "  File \"/mydata/conda/envs/tf2/lib/python3.6/site-packages/ibmfl/aggregator/protohandler/proto_handler.py\", line 784, in periodically_verify_quorum\n",
      "    'Max-timeout: quorum not reached. Party did not reply in time.')\n",
      "ibmfl.exceptions.QuorumException: Max-timeout: quorum not reached. Party did not reply in time.\n"
     ]
    },
    {
     "data": {
      "text/plain": [
       "False"
      ]
     },
     "execution_count": 9,
     "metadata": {},
     "output_type": "execute_result"
    }
   ],
   "source": [
    "\"\"\"\n",
    "#1 Initialize the metrics collector variables\n",
    "\"\"\"\n",
    "num_parties = agg_config['hyperparams']['global']['num_parties']\n",
    "eval_party_accuracy = [[] for _ in range(num_parties)]\n",
    "iterations = [[] for _ in range(num_parties)]\n",
    "\n",
    "\"\"\"\n",
    "#2 Register handler for metrics collector\n",
    "\"\"\"\n",
    "def get_metrics(metrics):\n",
    "    keys = list(metrics['party'].keys())\n",
    "    keys.sort()\n",
    "    for i in range(len(keys)):\n",
    "      eval_party_accuracy[i].append(metrics['party'][keys[i]]['accuracy'])\n",
    "      iterations[i].append(metrics['fusion']['curr_round']*agg_config['hyperparams']['local']['training']['epochs'])\n",
    "      \n",
    "mh = aggregator.fusion.metrics_manager\n",
    "mh.register(get_metrics)\n",
    "\n",
    "\n",
    "\"\"\"\n",
    "#3 start the training\n",
    "\"\"\"\n",
    "aggregator.start_training()"
   ]
  },
  {
   "cell_type": "code",
   "execution_count": 12,
   "metadata": {},
   "outputs": [
    {
     "data": {
      "image/png": "[encoded data removed]",
      "text/plain": [
       "<Figure size 1440x720 with 1 Axes>"
      ]
     },
     "metadata": {
      "needs_background": "light"
     },
     "output_type": "display_data"
    }
   ],
   "source": [
    "\"\"\"\n",
    "#1 define a method to plot a smooth cure\n",
    "\"\"\"\n",
    "from matplotlib import pyplot as plt\n",
    "from scipy.interpolate import make_interp_spline, BSpline\n",
    "import numpy as np\n",
    "\n",
    "def smooth_curve(xaxis, yaxis):\n",
    "   xnew = np.linspace(min(xaxis), max(xaxis), len(xaxis)*50) \n",
    "\n",
    "   spl = make_interp_spline(xaxis, yaxis, k=1)  # type: BSpline\n",
    "   power_smooth = spl(xnew)\n",
    "   return xnew, power_smooth \n",
    "\n",
    "f = plt.figure(figsize=(20,10))\n",
    "plt.subplot(2, 2, 1)\n",
    "\n",
    "num_parties = agg_config['hyperparams']['global']['num_parties']\n",
    "\n",
    "\n",
    "\"\"\"\n",
    "#2 plot the evaluation curve\n",
    "\"\"\"\n",
    "for i in range(num_parties):\n",
    "    eval_party_xaxis, eval_party_yaxis = smooth_curve(iterations[i], eval_party_accuracy[i])\n",
    "    line1, = plt.plot(eval_party_xaxis, eval_party_yaxis)\n",
    "    line1.set_label('party'+str(i+1))\n",
    "\n",
    "if use_dp:\n",
    "    plt.title(f'({budget}, {delta}) Differentially Private')\n",
    "else:\n",
    "    plt.title(f'No Additional Privacy')\n",
    "    \n",
    "plt.axis([0, 100, 0, 1])\n",
    "plt.ylabel('Accuracy')\n",
    "plt.xlabel('Epochs')\n",
    "plt.legend()\n",
    "plt.savefig(f'/users/agot/{fig_name}', bbox_inches='tight')\n",
    "plt.show()"
   ]
  },
  {
   "cell_type": "markdown",
   "metadata": {},
   "source": [
    "## Shut Down\n",
    "\n",
    "Invoke the `stop()` method on each of the network participants to terminate the service."
   ]
  },
  {
   "cell_type": "code",
   "execution_count": 8,
   "metadata": {},
   "outputs": [
    {
     "name": "stdout",
     "output_type": "stream",
     "text": [
      "2020-10-05 15:23:59,072 -STD ibmfl.aggregator.protohandler.proto_handler - INFO - State: States.SND_REQ\n",
      "2020-10-05 15:23:59,202 -STD ibmfl.aggregator.protohandler.proto_handler - INFO - Total number of success responses :2\n",
      "2020-10-05 15:23:59,204 -STD ibmfl.connection.flask_connection - INFO - Stopping Receiver and Sender\n",
      "2020-10-05 15:23:59,214 -STD werkzeug - INFO - 127.0.0.1 - - [05/Oct/2020 15:23:59] \"\u001b[37mPOST /shutdown HTTP/1.1\u001b[0m\" 200 -\n",
      "2020-10-05 15:23:59,219 -STD ibmfl.aggregator.aggregator - INFO - Aggregator stop successful\n"
     ]
    }
   ],
   "source": [
    "aggregator.stop()"
   ]
  },
  {
   "cell_type": "markdown",
   "metadata": {},
   "source": [
    "## Visualize Parties' Training\n",
    "Please go to Parties' notebooks to visalize summary of Parties' training."
   ]
  }
 ],
 "metadata": {
  "kernelspec": {
   "display_name": "Python 3",
   "language": "python",
   "name": "python3"
  },
  "language_info": {
   "codemirror_mode": {
    "name": "ipython",
    "version": 3
   },
   "file_extension": ".py",
   "mimetype": "text/x-python",
   "name": "python",
   "nbconvert_exporter": "python",
   "pygments_lexer": "ipython3",
   "version": "3.6.13"
  }
 },
 "nbformat": 4,
 "nbformat_minor": 4
}
